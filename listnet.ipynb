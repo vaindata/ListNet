{
  "nbformat": 4,
  "nbformat_minor": 0,
  "metadata": {
    "colab": {
      "provenance": []
    },
    "kernelspec": {
      "name": "python3",
      "display_name": "Python 3"
    },
    "language_info": {
      "name": "python"
    }
  },
  "cells": [
    {
      "cell_type": "code",
      "execution_count": 1,
      "metadata": {
        "colab": {
          "base_uri": "https://localhost:8080/"
        },
        "id": "KQZRc02NV42a",
        "outputId": "8abe68cc-1583-4c5c-f5e5-909af2d6b5d5"
      },
      "outputs": [
        {
          "output_type": "stream",
          "name": "stdout",
          "text": [
            "Requirement already satisfied: sentence-transformers in /usr/local/lib/python3.10/dist-packages (2.3.1)\n",
            "Requirement already satisfied: transformers<5.0.0,>=4.32.0 in /usr/local/lib/python3.10/dist-packages (from sentence-transformers) (4.35.2)\n",
            "Requirement already satisfied: tqdm in /usr/local/lib/python3.10/dist-packages (from sentence-transformers) (4.66.2)\n",
            "Requirement already satisfied: torch>=1.11.0 in /usr/local/lib/python3.10/dist-packages (from sentence-transformers) (2.1.0+cu121)\n",
            "Requirement already satisfied: numpy in /usr/local/lib/python3.10/dist-packages (from sentence-transformers) (1.25.2)\n",
            "Requirement already satisfied: scikit-learn in /usr/local/lib/python3.10/dist-packages (from sentence-transformers) (1.2.2)\n",
            "Requirement already satisfied: scipy in /usr/local/lib/python3.10/dist-packages (from sentence-transformers) (1.11.4)\n",
            "Requirement already satisfied: nltk in /usr/local/lib/python3.10/dist-packages (from sentence-transformers) (3.8.1)\n",
            "Requirement already satisfied: sentencepiece in /usr/local/lib/python3.10/dist-packages (from sentence-transformers) (0.1.99)\n",
            "Requirement already satisfied: huggingface-hub>=0.15.1 in /usr/local/lib/python3.10/dist-packages (from sentence-transformers) (0.20.3)\n",
            "Requirement already satisfied: Pillow in /usr/local/lib/python3.10/dist-packages (from sentence-transformers) (9.4.0)\n",
            "Requirement already satisfied: filelock in /usr/local/lib/python3.10/dist-packages (from huggingface-hub>=0.15.1->sentence-transformers) (3.13.1)\n",
            "Requirement already satisfied: fsspec>=2023.5.0 in /usr/local/lib/python3.10/dist-packages (from huggingface-hub>=0.15.1->sentence-transformers) (2023.6.0)\n",
            "Requirement already satisfied: requests in /usr/local/lib/python3.10/dist-packages (from huggingface-hub>=0.15.1->sentence-transformers) (2.31.0)\n",
            "Requirement already satisfied: pyyaml>=5.1 in /usr/local/lib/python3.10/dist-packages (from huggingface-hub>=0.15.1->sentence-transformers) (6.0.1)\n",
            "Requirement already satisfied: typing-extensions>=3.7.4.3 in /usr/local/lib/python3.10/dist-packages (from huggingface-hub>=0.15.1->sentence-transformers) (4.9.0)\n",
            "Requirement already satisfied: packaging>=20.9 in /usr/local/lib/python3.10/dist-packages (from huggingface-hub>=0.15.1->sentence-transformers) (23.2)\n",
            "Requirement already satisfied: sympy in /usr/local/lib/python3.10/dist-packages (from torch>=1.11.0->sentence-transformers) (1.12)\n",
            "Requirement already satisfied: networkx in /usr/local/lib/python3.10/dist-packages (from torch>=1.11.0->sentence-transformers) (3.2.1)\n",
            "Requirement already satisfied: jinja2 in /usr/local/lib/python3.10/dist-packages (from torch>=1.11.0->sentence-transformers) (3.1.3)\n",
            "Requirement already satisfied: triton==2.1.0 in /usr/local/lib/python3.10/dist-packages (from torch>=1.11.0->sentence-transformers) (2.1.0)\n",
            "Requirement already satisfied: regex!=2019.12.17 in /usr/local/lib/python3.10/dist-packages (from transformers<5.0.0,>=4.32.0->sentence-transformers) (2023.12.25)\n",
            "Requirement already satisfied: tokenizers<0.19,>=0.14 in /usr/local/lib/python3.10/dist-packages (from transformers<5.0.0,>=4.32.0->sentence-transformers) (0.15.2)\n",
            "Requirement already satisfied: safetensors>=0.3.1 in /usr/local/lib/python3.10/dist-packages (from transformers<5.0.0,>=4.32.0->sentence-transformers) (0.4.2)\n",
            "Requirement already satisfied: click in /usr/local/lib/python3.10/dist-packages (from nltk->sentence-transformers) (8.1.7)\n",
            "Requirement already satisfied: joblib in /usr/local/lib/python3.10/dist-packages (from nltk->sentence-transformers) (1.3.2)\n",
            "Requirement already satisfied: threadpoolctl>=2.0.0 in /usr/local/lib/python3.10/dist-packages (from scikit-learn->sentence-transformers) (3.2.0)\n",
            "Requirement already satisfied: MarkupSafe>=2.0 in /usr/local/lib/python3.10/dist-packages (from jinja2->torch>=1.11.0->sentence-transformers) (2.1.5)\n",
            "Requirement already satisfied: charset-normalizer<4,>=2 in /usr/local/lib/python3.10/dist-packages (from requests->huggingface-hub>=0.15.1->sentence-transformers) (3.3.2)\n",
            "Requirement already satisfied: idna<4,>=2.5 in /usr/local/lib/python3.10/dist-packages (from requests->huggingface-hub>=0.15.1->sentence-transformers) (3.6)\n",
            "Requirement already satisfied: urllib3<3,>=1.21.1 in /usr/local/lib/python3.10/dist-packages (from requests->huggingface-hub>=0.15.1->sentence-transformers) (2.0.7)\n",
            "Requirement already satisfied: certifi>=2017.4.17 in /usr/local/lib/python3.10/dist-packages (from requests->huggingface-hub>=0.15.1->sentence-transformers) (2024.2.2)\n",
            "Requirement already satisfied: mpmath>=0.19 in /usr/local/lib/python3.10/dist-packages (from sympy->torch>=1.11.0->sentence-transformers) (1.3.0)\n"
          ]
        }
      ],
      "source": [
        "!pip install sentence-transformers"
      ]
    },
    {
      "cell_type": "code",
      "source": [
        "import torch\n",
        "from torch import nn\n",
        "from torch.nn import functional as F\n",
        "from tqdm import tqdm\n",
        "from sentence_transformers import SentenceTransformer\n",
        "model = SentenceTransformer('sentence-transformers/all-MiniLM-L6-v2')"
      ],
      "metadata": {
        "id": "6hTz-q_ewCQM",
        "colab": {
          "base_uri": "https://localhost:8080/"
        },
        "outputId": "3e571f60-3025-40e3-c9cf-ef527a220cc7"
      },
      "execution_count": 2,
      "outputs": [
        {
          "output_type": "stream",
          "name": "stderr",
          "text": [
            "/usr/local/lib/python3.10/dist-packages/huggingface_hub/utils/_token.py:88: UserWarning: \n",
            "The secret `HF_TOKEN` does not exist in your Colab secrets.\n",
            "To authenticate with the Hugging Face Hub, create a token in your settings tab (https://huggingface.co/settings/tokens), set it as secret in your Google Colab and restart your session.\n",
            "You will be able to reuse this secret in all of your notebooks.\n",
            "Please note that authentication is recommended but still optional to access public models or datasets.\n",
            "  warnings.warn(\n"
          ]
        }
      ]
    },
    {
      "cell_type": "code",
      "source": [
        "query_1 = \"dog\"\n",
        "\n",
        "bing_search_results = [\n",
        "    \"Dog - Wikipedia\",\n",
        "    \"Adopting a dog or puppy | RSPCA Australia\",\n",
        "    \"dog | History, Domestication, Physical Traits, & Breeds\",\n",
        "    \"New South Wales | Dogs & Puppies | Gumtree Australia Free\",\n",
        "    \"dog - Wiktionary\"\n",
        "]\n",
        "\n",
        "\n",
        "query_2 = \"what is a dog\"\n",
        "\n",
        "google_search_results = [\n",
        "    \"Dog - Wikipedia\",\n",
        "    \"Dog - Simple English Wikipedia, the free encyclopedia\",\n",
        "    \"Dog | National Geographic\",\n",
        "    \"dog | History, Domestication, Physical Traits, & Breeds\",\n",
        "    \"What is a Dog | Facts About Dogs | DK Find Out\"\n",
        "]"
      ],
      "metadata": {
        "id": "qAMq-OjxWEh7"
      },
      "execution_count": 3,
      "outputs": []
    },
    {
      "cell_type": "code",
      "source": [
        "# Relevance scores of the documents\n",
        "relevance_grades = [\n",
        "    [3.0, 2.0, 2.0, 2.0, 1.0],\n",
        "    [3.0, 3.0, 1.0, 1.0, 0.0]\n",
        "]"
      ],
      "metadata": {
        "id": "g-cWxlOqWib6"
      },
      "execution_count": 4,
      "outputs": []
    },
    {
      "cell_type": "code",
      "source": [
        "# Creates (q, d) tuple\n",
        "\n",
        "def get_query_document_embedding(q, d):\n",
        "  '''\n",
        "  Returns a 5 x 768 dimension vector\n",
        "  '''\n",
        "  q = torch.tensor(model.encode(q))\n",
        "  d_embed = torch.tensor(model.encode(d))\n",
        "  q = q.unsqueeze(0).repeat(d_embed.shape[0], 1)\n",
        "  return torch.cat((q, d_embed), dim = -1)"
      ],
      "metadata": {
        "id": "kdVnuP2PaS9A"
      },
      "execution_count": 6,
      "outputs": []
    },
    {
      "cell_type": "code",
      "source": [
        "import numpy as np\n",
        "dataset = []\n",
        "dataset.extend(get_query_document_embedding(query_1, bing_search_results))\n",
        "dataset.extend(get_query_document_embedding(query_2, google_search_results))"
      ],
      "metadata": {
        "id": "fL1mISlxWvJM"
      },
      "execution_count": 7,
      "outputs": []
    },
    {
      "cell_type": "code",
      "source": [
        "dataset = torch.from_numpy(np.array(dataset))"
      ],
      "metadata": {
        "id": "kcD6EwRagQOj"
      },
      "execution_count": 8,
      "outputs": []
    },
    {
      "cell_type": "code",
      "source": [
        "dataset.shape"
      ],
      "metadata": {
        "colab": {
          "base_uri": "https://localhost:8080/"
        },
        "id": "QeJx5YqjgvM9",
        "outputId": "67ba420e-b08c-4d9c-b012-ce54f3a9b910"
      },
      "execution_count": 9,
      "outputs": [
        {
          "output_type": "execute_result",
          "data": {
            "text/plain": [
              "torch.Size([10, 768])"
            ]
          },
          "metadata": {},
          "execution_count": 9
        }
      ]
    },
    {
      "cell_type": "code",
      "source": [
        "relevance_grades = [grade for grades in relevance_grades for grade in grades]"
      ],
      "metadata": {
        "id": "ueYDjcvk-zZw"
      },
      "execution_count": 10,
      "outputs": []
    },
    {
      "cell_type": "code",
      "source": [
        "relevance_grades"
      ],
      "metadata": {
        "colab": {
          "base_uri": "https://localhost:8080/"
        },
        "id": "hSAW9S24-8B3",
        "outputId": "b7768416-68e5-4a4b-e1e1-9b38fbee7dc6"
      },
      "execution_count": 11,
      "outputs": [
        {
          "output_type": "execute_result",
          "data": {
            "text/plain": [
              "[3.0, 2.0, 2.0, 2.0, 1.0, 3.0, 3.0, 1.0, 1.0, 0.0]"
            ]
          },
          "metadata": {},
          "execution_count": 11
        }
      ]
    },
    {
      "cell_type": "code",
      "source": [
        "from torch.utils.data import DataLoader\n",
        "\n",
        "class customDataset:\n",
        "  def __init__(self, query_doc, relevance):\n",
        "    self.query_doc = query_doc\n",
        "    self.relevance = relevance\n",
        "\n",
        "  def __getitem__(self, idx):\n",
        "    query_doc_vec = self.query_doc[idx]\n",
        "    relevance = torch.tensor(self.relevance[idx])\n",
        "    return query_doc_vec, relevance\n",
        "\n",
        "  def __len__(self):\n",
        "    return len(self.relevance)\n",
        "\n",
        "train_dataset = customDataset(dataset, relevance_grades)\n",
        "train_loader = DataLoader(train_dataset, batch_size = 5, shuffle=False)"
      ],
      "metadata": {
        "id": "usR17fYTfh7G"
      },
      "execution_count": 12,
      "outputs": []
    },
    {
      "cell_type": "code",
      "source": [
        "class BasicNet(nn.Module):\n",
        "  def __init__(self, d, output_class):\n",
        "    super().__init__()\n",
        "    self.linear1 = nn.Linear(d, 100)\n",
        "    self.linear2 = nn.Linear(100, output_class)\n",
        "\n",
        "  def forward(self, x):\n",
        "    x = self.linear1(x)\n",
        "    x = self.linear2(x)\n",
        "    return x\n",
        "\n",
        "  def kl_loss(self, p, q):\n",
        "    p = F.softmax(p, dim = -1)\n",
        "    q = F.softmax(q, dim = -1)\n",
        "    return (p * (p / q).log()).sum()"
      ],
      "metadata": {
        "id": "VFk5tqrqf7iY"
      },
      "execution_count": 13,
      "outputs": []
    },
    {
      "cell_type": "code",
      "source": [
        "net = BasicNet(768, 1)"
      ],
      "metadata": {
        "id": "z7GfnEsAkunw"
      },
      "execution_count": 14,
      "outputs": []
    },
    {
      "cell_type": "code",
      "source": [
        "net"
      ],
      "metadata": {
        "colab": {
          "base_uri": "https://localhost:8080/"
        },
        "id": "h_avSzdtkzR9",
        "outputId": "40ebca67-8d23-4b07-a737-ce085e0abe5f"
      },
      "execution_count": 15,
      "outputs": [
        {
          "output_type": "execute_result",
          "data": {
            "text/plain": [
              "BasicNet(\n",
              "  (linear1): Linear(in_features=768, out_features=100, bias=True)\n",
              "  (linear2): Linear(in_features=100, out_features=1, bias=True)\n",
              ")"
            ]
          },
          "metadata": {},
          "execution_count": 15
        }
      ]
    },
    {
      "cell_type": "code",
      "source": [
        "'''\n",
        "Training Loop\n",
        "'''\n",
        "\n",
        "def train(train_loader, net, epochs):\n",
        "    optimizer = torch.optim.Adam(net.parameters(), lr=0.001)\n",
        "    total_iterations = 0\n",
        "\n",
        "    for epoch in range(epochs):\n",
        "        net.train()\n",
        "\n",
        "        loss_sum = 0\n",
        "        num_iterations = 0\n",
        "\n",
        "        data_iterator = tqdm(train_loader, desc=f'Epoch {epoch+1}')\n",
        "\n",
        "        for data in data_iterator:\n",
        "            x, y = data\n",
        "            num_iterations += 1\n",
        "            optimizer.zero_grad()\n",
        "            output = net(x).view(-1)\n",
        "            loss = net.kl_loss(y, output)\n",
        "            loss_sum += loss.item()\n",
        "            avg_loss = loss_sum / num_iterations\n",
        "            data_iterator.set_postfix(loss=avg_loss)\n",
        "            loss.backward()\n",
        "            optimizer.step()\n",
        "\n",
        "train(train_loader, net, epochs=50)"
      ],
      "metadata": {
        "colab": {
          "base_uri": "https://localhost:8080/"
        },
        "id": "tu_cA8mfk5EP",
        "outputId": "9f6cd72f-fd75-4c44-d87d-44ce6369955d"
      },
      "execution_count": 16,
      "outputs": [
        {
          "output_type": "stream",
          "name": "stderr",
          "text": [
            "Epoch 1: 100%|██████████| 2/2 [00:00<00:00, 305.40it/s, loss=0.332]\n",
            "Epoch 2: 100%|██████████| 2/2 [00:00<00:00, 356.07it/s, loss=0.309]\n",
            "Epoch 3: 100%|██████████| 2/2 [00:00<00:00, 272.81it/s, loss=0.288]\n",
            "Epoch 4: 100%|██████████| 2/2 [00:00<00:00, 403.92it/s, loss=0.268]\n",
            "Epoch 5: 100%|██████████| 2/2 [00:00<00:00, 375.06it/s, loss=0.248]\n",
            "Epoch 6: 100%|██████████| 2/2 [00:00<00:00, 412.52it/s, loss=0.229]\n",
            "Epoch 7: 100%|██████████| 2/2 [00:00<00:00, 241.16it/s, loss=0.211]\n",
            "Epoch 8: 100%|██████████| 2/2 [00:00<00:00, 418.01it/s, loss=0.193]\n",
            "Epoch 9: 100%|██████████| 2/2 [00:00<00:00, 416.72it/s, loss=0.176]\n",
            "Epoch 10: 100%|██████████| 2/2 [00:00<00:00, 419.37it/s, loss=0.161]\n",
            "Epoch 11: 100%|██████████| 2/2 [00:00<00:00, 296.84it/s, loss=0.146]\n",
            "Epoch 12: 100%|██████████| 2/2 [00:00<00:00, 406.39it/s, loss=0.132]\n",
            "Epoch 13: 100%|██████████| 2/2 [00:00<00:00, 388.20it/s, loss=0.12]\n",
            "Epoch 14: 100%|██████████| 2/2 [00:00<00:00, 414.74it/s, loss=0.109]\n",
            "Epoch 15: 100%|██████████| 2/2 [00:00<00:00, 413.72it/s, loss=0.0984]\n",
            "Epoch 16: 100%|██████████| 2/2 [00:00<00:00, 418.11it/s, loss=0.0891]\n",
            "Epoch 17: 100%|██████████| 2/2 [00:00<00:00, 404.76it/s, loss=0.0807]\n",
            "Epoch 18: 100%|██████████| 2/2 [00:00<00:00, 421.09it/s, loss=0.0731]\n",
            "Epoch 19: 100%|██████████| 2/2 [00:00<00:00, 399.31it/s, loss=0.0664]\n",
            "Epoch 20: 100%|██████████| 2/2 [00:00<00:00, 417.70it/s, loss=0.0603]\n",
            "Epoch 21: 100%|██████████| 2/2 [00:00<00:00, 168.19it/s, loss=0.0548]\n",
            "Epoch 22: 100%|██████████| 2/2 [00:00<00:00, 406.39it/s, loss=0.0498]\n",
            "Epoch 23: 100%|██████████| 2/2 [00:00<00:00, 398.00it/s, loss=0.0452]\n",
            "Epoch 24: 100%|██████████| 2/2 [00:00<00:00, 411.43it/s, loss=0.0409]\n",
            "Epoch 25: 100%|██████████| 2/2 [00:00<00:00, 391.86it/s, loss=0.0369]\n",
            "Epoch 26: 100%|██████████| 2/2 [00:00<00:00, 401.62it/s, loss=0.0333]\n",
            "Epoch 27: 100%|██████████| 2/2 [00:00<00:00, 389.66it/s, loss=0.0299]\n",
            "Epoch 28: 100%|██████████| 2/2 [00:00<00:00, 392.06it/s, loss=0.0269]\n",
            "Epoch 29: 100%|██████████| 2/2 [00:00<00:00, 353.61it/s, loss=0.0242]\n",
            "Epoch 30: 100%|██████████| 2/2 [00:00<00:00, 396.64it/s, loss=0.0218]\n",
            "Epoch 31: 100%|██████████| 2/2 [00:00<00:00, 397.98it/s, loss=0.0198]\n",
            "Epoch 32: 100%|██████████| 2/2 [00:00<00:00, 400.33it/s, loss=0.018]\n",
            "Epoch 33: 100%|██████████| 2/2 [00:00<00:00, 431.87it/s, loss=0.0166]\n",
            "Epoch 34: 100%|██████████| 2/2 [00:00<00:00, 417.16it/s, loss=0.0154]\n",
            "Epoch 35: 100%|██████████| 2/2 [00:00<00:00, 426.23it/s, loss=0.0144]\n",
            "Epoch 36: 100%|██████████| 2/2 [00:00<00:00, 441.71it/s, loss=0.0136]\n",
            "Epoch 37: 100%|██████████| 2/2 [00:00<00:00, 446.27it/s, loss=0.0129]\n",
            "Epoch 38: 100%|██████████| 2/2 [00:00<00:00, 440.88it/s, loss=0.0123]\n",
            "Epoch 39: 100%|██████████| 2/2 [00:00<00:00, 443.09it/s, loss=0.0118]\n",
            "Epoch 40: 100%|██████████| 2/2 [00:00<00:00, 445.56it/s, loss=0.0114]\n",
            "Epoch 41: 100%|██████████| 2/2 [00:00<00:00, 386.73it/s, loss=0.0111]\n",
            "Epoch 42: 100%|██████████| 2/2 [00:00<00:00, 404.95it/s, loss=0.0108]\n",
            "Epoch 43: 100%|██████████| 2/2 [00:00<00:00, 375.70it/s, loss=0.0106]\n",
            "Epoch 44: 100%|██████████| 2/2 [00:00<00:00, 404.50it/s, loss=0.0105]\n",
            "Epoch 45: 100%|██████████| 2/2 [00:00<00:00, 445.28it/s, loss=0.0104]\n",
            "Epoch 46: 100%|██████████| 2/2 [00:00<00:00, 424.37it/s, loss=0.0103]\n",
            "Epoch 47: 100%|██████████| 2/2 [00:00<00:00, 406.90it/s, loss=0.0102]\n",
            "Epoch 48: 100%|██████████| 2/2 [00:00<00:00, 418.43it/s, loss=0.0102]\n",
            "Epoch 49: 100%|██████████| 2/2 [00:00<00:00, 430.43it/s, loss=0.0101]\n",
            "Epoch 50: 100%|██████████| 2/2 [00:00<00:00, 398.58it/s, loss=0.0101]\n"
          ]
        }
      ]
    },
    {
      "cell_type": "code",
      "source": [
        "y_pred = []\n",
        "for x, y in train_loader:\n",
        "  y_pred.append(net(x).view(-1).detach().numpy())"
      ],
      "metadata": {
        "id": "qRLO_3IXzFBc"
      },
      "execution_count": 17,
      "outputs": []
    },
    {
      "cell_type": "code",
      "source": [
        "import matplotlib.pyplot as plt\n",
        "\n",
        "def softmax(x):\n",
        "    return np.exp(x) / np.sum(np.exp(x), axis=0)\n",
        "\n",
        "def visualize(y):\n",
        "  probs = softmax(y)\n",
        "  x = [i for i in range(1, 6)]\n",
        "  print(probs)\n",
        "  plt.bar(x,probs)\n",
        "  plt.title('Predicted')\n",
        "  plt.show()\n"
      ],
      "metadata": {
        "id": "m8xyr0nPF4gV"
      },
      "execution_count": 20,
      "outputs": []
    },
    {
      "cell_type": "code",
      "source": [
        "visualize(relevance_grades[:5])"
      ],
      "metadata": {
        "colab": {
          "base_uri": "https://localhost:8080/",
          "height": 469
        },
        "id": "T58OHliAD7mt",
        "outputId": "7704e3ed-a1b7-46eb-de3b-8ad335cf13cd"
      },
      "execution_count": 19,
      "outputs": [
        {
          "output_type": "stream",
          "name": "stdout",
          "text": [
            "[0.44663322 0.16430718 0.16430718 0.16430718 0.06044523]\n"
          ]
        },
        {
          "output_type": "display_data",
          "data": {
            "text/plain": [
              "<Figure size 640x480 with 1 Axes>"
            ],
            "image/png": "[encoded data removed]"
          },
          "metadata": {}
        }
      ]
    },
    {
      "cell_type": "code",
      "source": [
        "visualize(y_pred[0])"
      ],
      "metadata": {
        "id": "X5Jg_lhEGZoH",
        "colab": {
          "base_uri": "https://localhost:8080/",
          "height": 469
        },
        "outputId": "cecbea80-e676-4860-b0ed-d15625323e68"
      },
      "execution_count": 21,
      "outputs": [
        {
          "output_type": "stream",
          "name": "stdout",
          "text": [
            "[0.48846975 0.16362853 0.12215585 0.16420698 0.06153888]\n"
          ]
        },
        {
          "output_type": "display_data",
          "data": {
            "text/plain": [
              "<Figure size 640x480 with 1 Axes>"
            ],
            "image/png": "[encoded data removed]"
          },
          "metadata": {}
        }
      ]
    },
    {
      "cell_type": "code",
      "source": [],
      "metadata": {
        "id": "coUh12Uab8WI"
      },
      "execution_count": null,
      "outputs": []
    }
  ]
}